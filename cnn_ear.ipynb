{
 "cells": [
  {
   "cell_type": "code",
   "execution_count": 1,
   "metadata": {},
   "outputs": [
    {
     "name": "stderr",
     "output_type": "stream",
     "text": [
      "/Users/meetkumarpatel/anaconda3/lib/python3.6/site-packages/h5py/__init__.py:36: FutureWarning: Conversion of the second argument of issubdtype from `float` to `np.floating` is deprecated. In future, it will be treated as `np.float64 == np.dtype(float).type`.\n",
      "  from ._conv import register_converters as _register_converters\n",
      "Using TensorFlow backend.\n"
     ]
    }
   ],
   "source": [
    "from keras.models import Sequential\n",
    "from keras.layers import Conv2D\n",
    "from keras.layers import MaxPooling2D\n",
    "from keras.layers import Flatten\n",
    "from keras.layers import Dense\n",
    "from keras.layers import Dropout\n",
    "from keras import optimizers\n",
    "import pandas as pd\n",
    "from keras.layers.normalization import BatchNormalization"
   ]
  },
  {
   "cell_type": "code",
   "execution_count": 6,
   "metadata": {},
   "outputs": [
    {
     "name": "stdout",
     "output_type": "stream",
     "text": [
      "_________________________________________________________________\n",
      "Layer (type)                 Output Shape              Param #   \n",
      "=================================================================\n",
      "Input_Conv2D_1 (Conv2D)      (None, 62, 62, 64)        1792      \n",
      "_________________________________________________________________\n",
      "BatchNorm_1 (BatchNormalizat (None, 62, 62, 64)        256       \n",
      "_________________________________________________________________\n",
      "MaxPool_1 (MaxPooling2D)     (None, 31, 31, 64)        0         \n",
      "_________________________________________________________________\n",
      "Conv2D_2 (Conv2D)            (None, 29, 29, 64)        36928     \n",
      "_________________________________________________________________\n",
      "BatchNorm_2 (BatchNormalizat (None, 29, 29, 64)        256       \n",
      "_________________________________________________________________\n",
      "Dropout (Dropout)            (None, 29, 29, 64)        0         \n",
      "_________________________________________________________________\n",
      "Conv2D_3 (Conv2D)            (None, 27, 27, 64)        36928     \n",
      "_________________________________________________________________\n",
      "BatchNorm_3 (BatchNormalizat (None, 27, 27, 64)        256       \n",
      "_________________________________________________________________\n",
      "MaxPool_3 (MaxPooling2D)     (None, 13, 13, 64)        0         \n",
      "_________________________________________________________________\n",
      "Conv2D_4 (Conv2D)            (None, 11, 11, 32)        18464     \n",
      "_________________________________________________________________\n",
      "MaxPool_4 (MaxPooling2D)     (None, 5, 5, 32)          0         \n",
      "_________________________________________________________________\n",
      "Flatten (Flatten)            (None, 800)               0         \n",
      "_________________________________________________________________\n",
      "BatchNorm_Flatten (BatchNorm (None, 800)               3200      \n",
      "_________________________________________________________________\n",
      "Dense_1 (Dense)              (None, 128)               102528    \n",
      "_________________________________________________________________\n",
      "Dense_2 (Dense)              (None, 64)                8256      \n",
      "_________________________________________________________________\n",
      "Sigmoid_Output (Dense)       (None, 1)                 65        \n",
      "=================================================================\n",
      "Total params: 208,929\n",
      "Trainable params: 206,945\n",
      "Non-trainable params: 1,984\n",
      "_________________________________________________________________\n"
     ]
    }
   ],
   "source": [
    "classifier = Sequential()\n",
    "\n",
    "classifier.add(Conv2D(64, kernel_size=(3, 3), strides=(1,1), input_shape=(64,64,3), name='Input_Conv2D_1', activation='relu'))\n",
    "classifier.add(BatchNormalization(axis=-1, name='BatchNorm_1'))\n",
    "classifier.add(MaxPooling2D(pool_size=(2, 2), name='MaxPool_1'))\n",
    "\n",
    "classifier.add(Conv2D(64, kernel_size=(3, 3), strides=(1,1), activation='relu', name='Conv2D_2'))\n",
    "classifier.add(BatchNormalization(axis=-1, name='BatchNorm_2'))\n",
    "#classifier.add(MaxPooling2D(pool_size=(2, 2), name='MaxPool_2'))\n",
    "classifier.add(Dropout(0.25, name='Dropout'))\n",
    "\n",
    "classifier.add(Conv2D(64, kernel_size=(3, 3), strides=(1,1), name='Conv2D_3', activation='relu'))\n",
    "classifier.add(BatchNormalization(axis=-1, name='BatchNorm_3'))\n",
    "classifier.add(MaxPooling2D(pool_size=(2,2), name='MaxPool_3'))\n",
    "\n",
    "classifier.add(Conv2D(32, kernel_size=(3, 3), strides=(1,1), name='Conv2D_4', activation='relu'))\n",
    "classifier.add(MaxPooling2D(pool_size=(2,2), name='MaxPool_4'))\n",
    "\n",
    "classifier.add(Flatten(name='Flatten')) # Fully connected layer\n",
    "classifier.add(BatchNormalization(name='BatchNorm_Flatten'))\n",
    "\n",
    "classifier.add(Dense(128, name='Dense_1', activation='relu'))\n",
    "classifier.add(Dense(64, name='Dense_2', activation='relu'))\n",
    "\n",
    "classifier.add(Dense(1, activation='sigmoid', name='Sigmoid_Output'))\n",
    "classifier.summary()"
   ]
  },
  {
   "cell_type": "code",
   "execution_count": 7,
   "metadata": {},
   "outputs": [],
   "source": [
    "sgd = optimizers.SGD(lr=0.01, decay=1e-6, momentum=0.9, nesterov=True, clipvalue=0.5)\n",
    "classifier.compile( optimizer=sgd, loss='binary_crossentropy', metrics=['accuracy'])"
   ]
  },
  {
   "cell_type": "code",
   "execution_count": 8,
   "metadata": {},
   "outputs": [],
   "source": [
    "from keras.preprocessing.image import ImageDataGenerator\n",
    "# applying transformation to image\n",
    "train_datagen = ImageDataGenerator(\n",
    " rescale=1./255,\n",
    " shear_range=0.2,\n",
    " zoom_range=0.2,\n",
    " horizontal_flip=True)\n",
    "test_datagen = ImageDataGenerator(rescale=1./255)"
   ]
  },
  {
   "cell_type": "code",
   "execution_count": 9,
   "metadata": {},
   "outputs": [
    {
     "name": "stdout",
     "output_type": "stream",
     "text": [
      "Found 22346 images belonging to 2 classes.\n",
      "Found 8517 images belonging to 2 classes.\n"
     ]
    }
   ],
   "source": [
    "training_set = train_datagen.flow_from_directory(\n",
    "        '/users/meetkumarpatel/desktop/ear_model/dataset/training_set',\n",
    "        target_size=(64, 64),\n",
    "        batch_size=32,\n",
    "        class_mode='binary')\n",
    "test_set = test_datagen.flow_from_directory(\n",
    "        '/users/meetkumarpatel/desktop/ear_model/dataset/test_set',\n",
    "        target_size=(64, 64),\n",
    "        batch_size=32,\n",
    "        class_mode='binary')"
   ]
  },
  {
   "cell_type": "code",
   "execution_count": null,
   "metadata": {},
   "outputs": [],
   "source": [
    "from IPython.display import display \n",
    "\n",
    "history = classifier.fit_generator(\n",
    "                training_set,\n",
    "                steps_per_epoch=300,\n",
    "                epochs=10,\n",
    "                validation_data=test_set, validation_steps=150)"
   ]
  },
  {
   "cell_type": "code",
   "execution_count": 11,
   "metadata": {},
   "outputs": [],
   "source": [
    "classifier.save(\"ear_1.h5\",overwrite=True)\n",
    "#classifier.summary()\n"
   ]
  },
  {
   "cell_type": "code",
   "execution_count": 14,
   "metadata": {},
   "outputs": [
    {
     "data": {
      "text/plain": [
       "{'no': 0, 'yes': 1}"
      ]
     },
     "execution_count": 14,
     "metadata": {},
     "output_type": "execute_result"
    }
   ],
   "source": [
    "training_set.class_indices"
   ]
  },
  {
   "cell_type": "markdown",
   "metadata": {},
   "source": [
    "# test"
   ]
  },
  {
   "cell_type": "code",
   "execution_count": 35,
   "metadata": {},
   "outputs": [
    {
     "name": "stdout",
     "output_type": "stream",
     "text": [
      "[[1.]]\n"
     ]
    }
   ],
   "source": [
    "import numpy as np\n",
    "import cv2\n",
    "from keras.preprocessing import image\n",
    "test_image = np.array(image.load_img(\"/users/meetkumarpatel/desktop/ear_test_yes.jpg\",target_size=(64, 64 )))\n",
    "# Adding the channel\n",
    "test_image = image.img_to_array(test_image)\n",
    "# adding the batch size as predict method expects\n",
    "test_image = np.expand_dims(test_image, axis=0)\n",
    "# Predicting the test image\n",
    "result= classifier.predict(test_image)\n",
    "print(result)"
   ]
  },
  {
   "cell_type": "code",
   "execution_count": 36,
   "metadata": {},
   "outputs": [
    {
     "name": "stdout",
     "output_type": "stream",
     "text": [
      "1.0\n"
     ]
    }
   ],
   "source": [
    "print(result[0][0])"
   ]
  },
  {
   "cell_type": "code",
   "execution_count": null,
   "metadata": {},
   "outputs": [],
   "source": []
  }
 ],
 "metadata": {
  "kernelspec": {
   "display_name": "Python 3",
   "language": "python",
   "name": "python3"
  },
  "language_info": {
   "codemirror_mode": {
    "name": "ipython",
    "version": 3
   },
   "file_extension": ".py",
   "mimetype": "text/x-python",
   "name": "python",
   "nbconvert_exporter": "python",
   "pygments_lexer": "ipython3",
   "version": "3.6.5"
  }
 },
 "nbformat": 4,
 "nbformat_minor": 2
}
